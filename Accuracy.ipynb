{
 "cells": [
  {
   "cell_type": "code",
   "execution_count": 1,
   "metadata": {
    "collapsed": true
   },
   "outputs": [],
   "source": [
    "%matplotlib inline\n",
    "\n",
    "import json\n",
    "from pprint import pprint\n",
    "import numpy as np\n",
    "import matplotlib.pyplot as plt\n"
   ]
  },
  {
   "cell_type": "code",
   "execution_count": 2,
   "metadata": {
    "collapsed": true
   },
   "outputs": [],
   "source": [
    "def getGraphData(data):\n",
    "    x =[]\n",
    "    x_length = len(data[\"0\"][\"x\"])\n",
    "    for i in range(x_length):\n",
    "        x.append(data[\"0\"][\"x\"][i])\n",
    "    mean = []\n",
    "    variance = []\n",
    "    minValue = []\n",
    "    maxValue = []\n",
    "    sd = []\n",
    "    length = len(data[\"0\"][\"y\"])\n",
    "    for j in range(length):\n",
    "        dataarray = []\n",
    "        for i in data:\n",
    "            #print(i)\n",
    "            #print(j)\n",
    "            dataarray.append(data[i][\"y\"][j])\n",
    "        mean.append(np.mean(dataarray))\n",
    "        variance.append(np.var(dataarray))\n",
    "        maxValue.append(np.amax(dataarray))\n",
    "        minValue.append(np.amin(dataarray))\n",
    "        sd.append(np.std(dataarray))\n",
    "    \n",
    "    stdUp = np.add(mean ,sd)\n",
    "    stdDown = np.subtract(mean ,sd)\n",
    "    \n",
    "    return x,mean,variance,maxValue,minValue,sd,stdUp,stdDown"
   ]
  },
  {
   "cell_type": "code",
   "execution_count": 3,
   "metadata": {
    "collapsed": true
   },
   "outputs": [],
   "source": [
    "data1 = json.load(open('concrete_reward_accuracies.json'))"
   ]
  },
  {
   "cell_type": "code",
   "execution_count": 6,
   "metadata": {
    "collapsed": true
   },
   "outputs": [],
   "source": [
    "x_con,mean_con,variance_con,maxValue_con,minValue_con,std_con,stdUp_con,stdDown_con = getGraphData(data1)"
   ]
  },
  {
   "cell_type": "code",
   "execution_count": 8,
   "metadata": {
    "collapsed": true
   },
   "outputs": [],
   "source": [
    "data_mg = json.load(open('multigaussian_accuracies.json'))"
   ]
  },
  {
   "cell_type": "code",
   "execution_count": 9,
   "metadata": {
    "collapsed": true
   },
   "outputs": [],
   "source": [
    "x_mg,mean_mg,variance_mg,maxValue_mg,minValue_mg,std_mg,stdUp_mg,stdDown_mg = getGraphData(data_mg)"
   ]
  },
  {
   "cell_type": "code",
   "execution_count": 18,
   "metadata": {
    "collapsed": false
   },
   "outputs": [
    {
     "data": {
      "image/png": "[encoded data removed]",
      "text/plain": [
       "<matplotlib.figure.Figure at 0x1d0a740a400>"
      ]
     },
     "metadata": {},
     "output_type": "display_data"
    }
   ],
   "source": [
    "#plt.xlim(0, 50000)\n",
    "\n",
    "# # Plotting of lines\n",
    "# plt.plot(x, mean,\n",
    "#          x, minValue,\n",
    "#          x, maxValue)\n",
    "\n",
    "# # Filling between line y3 and line y4\n",
    "# plt.fill_between(x, minValue, maxValue, color='yellow', alpha='0.5')\n",
    "\n",
    "# Plotting of lines\n",
    "\n",
    "plt.plot(x_con, mean_con,\n",
    "         x_con, stdUp_con,\n",
    "         x_con, stdDown1)\n",
    "\n",
    "plt.plot(x_mg, mean_mg,\n",
    "       x_mg, stdUp_mg,\n",
    "       x_mg, stdDown_mg)\n",
    "\n",
    "# Filling between line y3 and line y4\n",
    "plt.fill_between(x1, stdUp_con, stdDown_con, color='yellow', alpha='0.5')\n",
    "plt.fill_between(x_mg, stdUp_mg, stdDown_mg, color='orange', alpha='0.5')\n",
    "plt.show()"
   ]
  },
  {
   "cell_type": "code",
   "execution_count": null,
   "metadata": {
    "collapsed": true
   },
   "outputs": [],
   "source": []
  }
 ],
 "metadata": {
  "kernelspec": {
   "display_name": "Python 3",
   "language": "python",
   "name": "python3"
  },
  "language_info": {
   "codemirror_mode": {
    "name": "ipython",
    "version": 3
   },
   "file_extension": ".py",
   "mimetype": "text/x-python",
   "name": "python",
   "nbconvert_exporter": "python",
   "pygments_lexer": "ipython3",
   "version": "3.6.0"
  }
 },
 "nbformat": 4,
 "nbformat_minor": 2
}
